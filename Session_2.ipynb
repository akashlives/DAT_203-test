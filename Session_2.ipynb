{
 "cells": [
  {
   "cell_type": "markdown",
   "metadata": {},
   "source": [
    "###  Map, filter and reduce"
   ]
  },
  {
   "cell_type": "markdown",
   "metadata": {},
   "source": [
    "### MAP\n",
    "Map applies a function to all the items in an input_list."
   ]
  },
  {
   "cell_type": "code",
   "execution_count": 1,
   "metadata": {},
   "outputs": [],
   "source": [
    "import numpy as np\n",
    "import time"
   ]
  },
  {
   "cell_type": "markdown",
   "metadata": {},
   "source": [
    "$$X = \\{x_1, x_2, ..., x_n\\}$$\n",
    "$$for \\ x \\in X:$$\n",
    "    $$f:x \\rightarrow x^2$$"
   ]
  },
  {
   "cell_type": "code",
   "execution_count": 5,
   "metadata": {},
   "outputs": [],
   "source": [
    "start = time.time()"
   ]
  },
  {
   "cell_type": "code",
   "execution_count": 3,
   "metadata": {},
   "outputs": [
    {
     "name": "stdout",
     "output_type": "stream",
     "text": [
      "20.1 µs ± 274 ns per loop (mean ± std. dev. of 7 runs, 10000 loops each)\n"
     ]
    }
   ],
   "source": [
    "%%timeit\n",
    "#start = time.time()\n",
    "items = list(np.arange(1,100, 2))\n",
    "squared = []\n",
    "for i in items:\n",
    "    squared.append(i**2)\n",
    "\n",
    "#end = time.time()\n",
    "#print(end - start)"
   ]
  },
  {
   "cell_type": "markdown",
   "metadata": {},
   "source": [
    "map(lambda x: function(x), input_list)"
   ]
  },
  {
   "cell_type": "code",
   "execution_count": 6,
   "metadata": {},
   "outputs": [
    {
     "name": "stdout",
     "output_type": "stream",
     "text": [
      "19.6 µs ± 1.12 µs per loop (mean ± std. dev. of 7 runs, 10000 loops each)\n"
     ]
    }
   ],
   "source": [
    "%%timeit\n",
    "items = list(np.arange(1,100, 2))\n",
    "squared = list(map(lambda x: x**2, items))"
   ]
  },
  {
   "cell_type": "code",
   "execution_count": 13,
   "metadata": {},
   "outputs": [
    {
     "name": "stdout",
     "output_type": "stream",
     "text": [
      "Value of i:  0\n",
      "[0, 0]\n",
      "Value of i:  1\n",
      "[1, 2]\n",
      "Value of i:  2\n",
      "[4, 4]\n",
      "Value of i:  3\n",
      "[9, 6]\n",
      "Value of i:  4\n",
      "[16, 8]\n"
     ]
    }
   ],
   "source": [
    "def multiply(x):\n",
    "    return (x*x)\n",
    "def add(x):\n",
    "    return (x+x)\n",
    "\n",
    "funcs = [multiply, add]\n",
    "for i in range(5):\n",
    "    print(\"Value of i: \", i)\n",
    "    value = list(map(lambda x: x(i), funcs))\n",
    "    print(value)"
   ]
  },
  {
   "cell_type": "markdown",
   "metadata": {},
   "source": [
    "### Filter \n",
    "Filter creates a list of elements for which a function returns true."
   ]
  },
  {
   "cell_type": "code",
   "execution_count": 19,
   "metadata": {},
   "outputs": [
    {
     "name": "stdout",
     "output_type": "stream",
     "text": [
      "[-5, -4, -3, -2, -1]\n"
     ]
    }
   ],
   "source": [
    "number_list = range(-5, 5)\n",
    "less_than_zero = list(filter(lambda x: x < 0, number_list))\n",
    "print(less_than_zero)"
   ]
  },
  {
   "cell_type": "code",
   "execution_count": 17,
   "metadata": {},
   "outputs": [],
   "source": [
    "number_list = range(-5, 5)\n",
    "new_list = []\n",
    "for i in number_list:\n",
    "    if i < 0:\n",
    "        new_list.append(i)"
   ]
  },
  {
   "cell_type": "markdown",
   "metadata": {},
   "source": [
    "### Reduce\n",
    "Reduce is a really useful function for performing some computation on a list and returning the result. It applies a rolling computation to sequential pairs of values in a list."
   ]
  },
  {
   "cell_type": "code",
   "execution_count": null,
   "metadata": {},
   "outputs": [],
   "source": [
    "product <- 1\n",
    "my_list <- list of enteries\n",
    "    for each element in my_list\n",
    "        product = product * e"
   ]
  },
  {
   "cell_type": "code",
   "execution_count": 25,
   "metadata": {},
   "outputs": [],
   "source": [
    "product = 1\n",
    "my_list = [1, 2, 3, 4]\n",
    "for num in my_list:\n",
    "    product = product * num"
   ]
  },
  {
   "cell_type": "code",
   "execution_count": 26,
   "metadata": {},
   "outputs": [
    {
     "data": {
      "text/plain": [
       "24"
      ]
     },
     "execution_count": 26,
     "metadata": {},
     "output_type": "execute_result"
    }
   ],
   "source": [
    "product "
   ]
  },
  {
   "cell_type": "markdown",
   "metadata": {},
   "source": [
    "**Reduce in action** <br>\n",
    "[1, 2, 3, 4] <br>\n",
    "[$1 \\times 2$, 3, 4] <br>\n",
    "[$2 \\times 3$, 4] <br>\n",
    "$6 \\times 4$"
   ]
  },
  {
   "cell_type": "code",
   "execution_count": 32,
   "metadata": {},
   "outputs": [
    {
     "data": {
      "text/plain": [
       "24"
      ]
     },
     "execution_count": 32,
     "metadata": {},
     "output_type": "execute_result"
    }
   ],
   "source": [
    "from functools import reduce\n",
    "product = reduce((lambda x, y: x * y), my_list)\n",
    "product"
   ]
  },
  {
   "cell_type": "code",
   "execution_count": 33,
   "metadata": {},
   "outputs": [
    {
     "name": "stdout",
     "output_type": "stream",
     "text": [
      "Cities:, Tokyo, Mexico City, Dhaka, Buenos Aires, Cairo, Beijing, Manila, Moscow\n"
     ]
    }
   ],
   "source": [
    "from functools import reduce\n",
    "#Let's define some data\n",
    "data=[['Tokyo', 35676000.0, 'primary'],\n",
    "      ['New York', 19354922.0, 'nan'],\n",
    "      ['Mexico City', 19028000.0, 'primary'],\n",
    "      ['Mumbai', 18978000.0, 'admin'],\n",
    "      ['São Paulo', 18845000.0, 'admin'],\n",
    "      ['Delhi', 15926000.0, 'admin'],\n",
    "      ['Shanghai', 14987000.0, 'admin'],\n",
    "      ['Kolkata', 14787000.0, 'admin'], \n",
    "      ['Los Angeles', 12815475.0, 'nan'],\n",
    "      ['Dhaka', 12797394.0, 'primary'],\n",
    "      ['Buenos Aires', 12795000.0, 'primary'],\n",
    "      ['Karachi', 12130000.0, 'admin'], \n",
    "      ['Cairo', 11893000.0, 'primary'],\n",
    "      ['Rio de Janeiro', 11748000.0, 'admin'],\n",
    "      ['Ōsaka', 11294000.0, 'admin'], \n",
    "      ['Beijing', 11106000.0, 'primary'],\n",
    "      ['Manila', 11100000.0, 'primary'],\n",
    "      ['Moscow', 10452000.0, 'primary'],\n",
    "      ['Istanbul', 10061000.0, 'admin'],\n",
    "      ['Paris', 9904000.0, 'primary']]\n",
    "map_obj = filter(lambda x: x[2]=='primary' and x[1]>10000000,data)\n",
    "map_obj = map(lambda x: x[0], map_obj)\n",
    "map_obj = reduce(lambda x,y: x+\", \"+y, map_obj, 'Cities:')\n",
    "print(map_obj)"
   ]
  },
  {
   "cell_type": "code",
   "execution_count": 34,
   "metadata": {},
   "outputs": [],
   "source": [
    "from functools import partial\n",
    "\n",
    "def add(x, y ,z):\n",
    "    return x + y + z"
   ]
  },
  {
   "cell_type": "code",
   "execution_count": 36,
   "metadata": {},
   "outputs": [],
   "source": [
    "?partial"
   ]
  },
  {
   "cell_type": "code",
   "execution_count": 39,
   "metadata": {},
   "outputs": [],
   "source": [
    "add2 = partial(add, x= 3, z = 4)\n",
    "\n",
    "\n",
    "add3 = partial(add, x= 5, z = 11)"
   ]
  },
  {
   "cell_type": "code",
   "execution_count": 42,
   "metadata": {},
   "outputs": [
    {
     "data": {
      "text/plain": [
       "11"
      ]
     },
     "execution_count": 42,
     "metadata": {},
     "output_type": "execute_result"
    }
   ],
   "source": [
    "add(3, 4, 4)"
   ]
  },
  {
   "cell_type": "code",
   "execution_count": 41,
   "metadata": {},
   "outputs": [
    {
     "data": {
      "text/plain": [
       "11"
      ]
     },
     "execution_count": 41,
     "metadata": {},
     "output_type": "execute_result"
    }
   ],
   "source": [
    "add2(y = 4)"
   ]
  },
  {
   "cell_type": "code",
   "execution_count": null,
   "metadata": {},
   "outputs": [],
   "source": [
    "df[col].apply(add)"
   ]
  }
 ],
 "metadata": {
  "kernelspec": {
   "display_name": "Python 3",
   "language": "python",
   "name": "python3"
  },
  "language_info": {
   "codemirror_mode": {
    "name": "ipython",
    "version": 3
   },
   "file_extension": ".py",
   "mimetype": "text/x-python",
   "name": "python",
   "nbconvert_exporter": "python",
   "pygments_lexer": "ipython3",
   "version": "3.7.4"
  }
 },
 "nbformat": 4,
 "nbformat_minor": 2
}
